{
  "cells": [
    {
      "cell_type": "code",
      "execution_count": null,
      "metadata": {
        "collapsed": false
      },
      "outputs": [],
      "source": [
        "%matplotlib inline"
      ]
    },
    {
      "cell_type": "markdown",
      "metadata": {},
      "source": [
        "\n# Guide 01\n\nExample with ``basic`` functionality.\n\n- Define dataset\n- Define settings.xxx.yaml\n- Run GridSearch\n- Visualise Results\n\n .. warning::\n    This is a warning\n\n .. note::\n    This is a note\n"
      ]
    },
    {
      "cell_type": "code",
      "execution_count": null,
      "metadata": {
        "collapsed": false
      },
      "outputs": [],
      "source": [
        "# Get your .csv file and save it in a folder within your\n# datasets (e.g. /datasets/iris/raw.csv).\n\n# If necessary, create an script to perform any additional\n# cleaning (e.g. format.py) and save the clean output in\n# the same folder (e.g. /datasets/iris/data.csv)\n\n# Create your configuration file (e.g. /datasets/iris/settings.iris.yaml).\n\n# Models (see /ls2d/settings.py)\n\nprint(\"WHAT!\")"
      ]
    }
  ],
  "metadata": {
    "kernelspec": {
      "display_name": "Python 3",
      "language": "python",
      "name": "python3"
    },
    "language_info": {
      "codemirror_mode": {
        "name": "ipython",
        "version": 3
      },
      "file_extension": ".py",
      "mimetype": "text/x-python",
      "name": "python",
      "nbconvert_exporter": "python",
      "pygments_lexer": "ipython3",
      "version": "3.9.0"
    }
  },
  "nbformat": 4,
  "nbformat_minor": 0
}