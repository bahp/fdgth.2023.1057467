{
  "cells": [
    {
      "cell_type": "code",
      "execution_count": null,
      "metadata": {
        "collapsed": false
      },
      "outputs": [],
      "source": [
        "%matplotlib inline"
      ]
    },
    {
      "cell_type": "markdown",
      "metadata": {},
      "source": [
        "\n# Compute metrics\n\nSample file to test metrics.\n"
      ]
    },
    {
      "cell_type": "code",
      "execution_count": null,
      "metadata": {
        "collapsed": false
      },
      "outputs": [],
      "source": [
        "if __name__ == '__main__':\n\n    # ------------------\n    # Libraries\n    # ------------------\n    # Generic libraries\n    import pandas as pd\n    import numpy as np\n    import matplotlib.pyplot as plt\n\n    # Basic functions in sklearn\n    from sklearn import datasets\n    from sklearn import metrics\n    from sklearn.datasets import make_blobs\n    from sklearn.decomposition import PCA\n\n    # Own functions\n    from ls2d.utils import _load_pickle\n    from ls2d.metrics import gmm_intersection_matrix\n    from ls2d.metrics import gmm_ratio_score\n    from ls2d.metrics import gmm_intersection_area\n    from ls2d.metrics import create_ellipse_shapely\n    from ls2d.metrics import create_ellipse_mpl\n\n\n    def load_iris_embeddings_pca():\n        \"\"\"Compute iris PCA embeddings\"\"\"\n        # Load iris dataset\n        X, y = iris = datasets.load_iris(return_X_y=True)\n        X = X.astype(np.float32)\n        y = y.astype(np.int64)\n\n        # Compute transform\n        y_pred = PCA(n_components=2).fit_transform(X)\n\n        # Train pca and transform\n        return X, y, y_pred\n\n\n    def load_blob_embeddings():\n        \"\"\"Create 2D embeddings\"\"\"\n        X, y = make_blobs(n_samples=500, centers=5,\n                          cluster_std=2,\n                          # centers=[[2,2], [1, 10], [10, 1]],\n                          # cluster_std=[[1,1], [2,2], [0.5,0.5]],\n                          n_features=2, random_state=170)\n        return X, y, X\n\n    # ------------------\n    # Data\n    # ------------------\n    # Create iris samle\n    #X, y, y_pred = load_iris_embeddings_pca()\n    # Create blob sample\n    X, y, y_pred = load_blob_embeddings()\n\n    # Number of clusters\n    n_clusters = len(np.unique(y))\n\n    # ------------------\n    # Metrics\n    # ------------------\n    \"\"\"\n    .. note: Overall it seems that the gmm_ratio_score is not very useful. \n             Note that minimising the ratios is the same as minimising the \n             intersection areas. The gmm_ratios matrix might be useful if \n             some classes are more important than others.\n    \"\"\"\n\n    # Intersection are matrix\n    gmm_matrix, label, gmms = \\\n        gmm_intersection_matrix(y_pred, y, include_all=False)\n    # Intersection ratios\n    gmm_ratios = gmm_matrix / np.diag(gmm_matrix)\n    # Intersection normalization\n    ratio_sum_v1 = np.sum(gmm_ratios) - np.sum(np.trace(gmm_ratios))\n    # ratio_avg = ratio_sum /\n    ratio_sum_v2 = gmm_ratio_score(y_pred, y, 'sum')\n\n    # Show\n    print(\"%s\\n%s\\n%s\" % ('-'*50, 'Scores', '-'*50))\n    print(\"\\nAreas:\")\n    print(gmm_matrix)\n    print(\"\\nRatios:\")\n    print(gmm_ratios)\n    print(\"\\nRatio (sum v1):\")\n    print(ratio_sum_v1)\n    print(\"\\nRatio (sum v2):\")\n    print(ratio_sum_v2)\n\n    # Compute scores\n    scores = pd.Series(dtype='float')\n    scores['gmm_intersection_area'] = \\\n        gmm_intersection_area(gmm_matrix=gmm_matrix)\n    scores['gmm_intersection_area_norm'] = \\\n        gmm_intersection_area(gmm_matrix=gmm_matrix, normalize=True)\n    scores['silhouette'] = metrics.silhouette_score(y_pred, y, metric=\"sqeuclidean\")\n    scores['calinski_h'] = metrics.calinski_harabasz_score(y_pred, y)\n    scores['davies_bouldin'] = metrics.davies_bouldin_score(y_pred, y)\n    scores['homogeneity'] = metrics.homogeneity_score(y, y)      # useless\n    scores['completeness'] = metrics.completeness_score(y, y)    # useless\n    scores['v_measure'] = metrics.v_measure_score(y, y)          # useless\n    scores['adj_rs'] = metrics.adjusted_rand_score(y, y)         # useless\n    scores['adj_mis'] = metrics.adjusted_mutual_info_score(y, y) # useless\n\n    # Show\n    print(\"\\nScores:\")\n    print(scores)\n\n    # ------------------\n    # Show\n    # ------------------\n    # Libraries\n    from matplotlib.patches import Polygon\n\n    # Construct variables\n    means = np.concatenate([\n        gmm.means_ for gmm in gmms\n    ])\n    covs = np.concatenate([\n        gmm.covariances_ for gmm in gmms\n    ])\n\n    # Create ellipses (shapely)\n    ells_shp = [\n        create_ellipse_shapely(m, c)\n        for m, c in zip(means, covs)]\n\n    # Create ellipses (matplotlib)\n    ells_mpl = [\n        create_ellipse_mpl(m, c)\n        for m, c in zip(means, covs)]\n\n    # Create figure\n    fig, ax = plt.subplots()\n    plt.scatter(y_pred[:, 0], y_pred[:, 1], c=y)\n\n    # Display ellipses (shapely)\n    for e in ells_shp:\n        verts1 = np.array(e.exterior.coords.xy)\n        patch1 = Polygon(verts1.T, color='blue', alpha=0.25)\n        ax.add_patch(patch1)\n\n    # Display ellipses (matplotlib)\n    for e in ells_mpl:\n        ax.add_artist(e)\n\n    # Show\n    plt.show()"
      ]
    }
  ],
  "metadata": {
    "kernelspec": {
      "display_name": "Python 3",
      "language": "python",
      "name": "python3"
    },
    "language_info": {
      "codemirror_mode": {
        "name": "ipython",
        "version": 3
      },
      "file_extension": ".py",
      "mimetype": "text/x-python",
      "name": "python",
      "nbconvert_exporter": "python",
      "pygments_lexer": "ipython3",
      "version": "3.9.1"
    }
  },
  "nbformat": 4,
  "nbformat_minor": 0
}